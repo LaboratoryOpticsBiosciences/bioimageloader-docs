{
 "cells": [
  {
   "cell_type": "markdown",
   "id": "31be9341-b36e-4937-82fb-d4daded0dde6",
   "metadata": {},
   "source": [
    "# More: Speeding up loading by pre-parsing\n",
    "Since `bioimageloader` is designed for computer vision ML/DL, it expects to have image\n",
    "arrays both for an image and its annotation. But datasets sometimes come with encoded\n",
    "annotation or in formats other than image formats. By its design, `bioimageloader`\n",
    "does not transform or modify the original source. That being said, as you may guess,\n",
    "decoding and parsing them to build image arrays take a while and easily become a bottle\n",
    "neck. The solution is to simply **pre-parse them only once and save them**.\n",
    "\n",
    "Let's see an example. We have [*ComputationalPathology*](https://ieeexplore.ieee.org/document/7872382)\n",
    "dataset, which comes with fully annotated instance masks. It is one of the high quality\n",
    "datasets you can find for instance segmentation tasks. But its annotations are stored\n",
    "in `.xml` format and thus need a parsing step. Conveniently, you do not have to worry\n",
    "about how to parse them, because it is already implemented in `bioimageloader`. As\n",
    "mentioned, however, iterating these masks and parsing them one by one is a huge bottle neck.\n"
   ]
  },
  {
   "cell_type": "code",
   "execution_count": 1,
   "id": "90b0bfc5-6681-4b6f-8eae-b168c3ce70bc",
   "metadata": {
    "execution": {
     "iopub.execute_input": "2022-03-01T12:24:00.830081Z",
     "iopub.status.busy": "2022-03-01T12:24:00.829597Z",
     "iopub.status.idle": "2022-03-01T12:24:01.296679Z",
     "shell.execute_reply": "2022-03-01T12:24:01.296149Z",
     "shell.execute_reply.started": "2022-03-01T12:24:00.829951Z"
    },
    "tags": []
   },
   "outputs": [],
   "source": [
    "from bioimageloader.collections import ComputationalPathology"
   ]
  },
  {
   "cell_type": "code",
   "execution_count": 2,
   "id": "e866f1cc-894a-465f-b430-6bd5778afcd5",
   "metadata": {
    "execution": {
     "iopub.execute_input": "2022-03-01T12:24:01.298078Z",
     "iopub.status.busy": "2022-03-01T12:24:01.297831Z",
     "iopub.status.idle": "2022-03-01T12:24:01.302337Z",
     "shell.execute_reply": "2022-03-01T12:24:01.301858Z",
     "shell.execute_reply.started": "2022-03-01T12:24:01.298062Z"
    },
    "tags": []
   },
   "outputs": [
    {
     "name": "stdout",
     "output_type": "stream",
     "text": [
      "ComPath 30\n"
     ]
    }
   ],
   "source": [
    "# `mask_tif` is specific to ComputationalPathology dataset\n",
    "compath = ComputationalPathology(\n",
    "    '../../Data/ComputationalPathology',\n",
    "    mask_tif=False  # by default\n",
    ")\n",
    "print(compath, len(compath))"
   ]
  },
  {
   "cell_type": "code",
   "execution_count": 3,
   "id": "1e5698c4-e8ec-4caf-b04f-ee838ed81aaa",
   "metadata": {
    "execution": {
     "iopub.execute_input": "2022-03-01T12:24:01.303222Z",
     "iopub.status.busy": "2022-03-01T12:24:01.303112Z",
     "iopub.status.idle": "2022-03-01T12:26:10.076264Z",
     "shell.execute_reply": "2022-03-01T12:26:10.075648Z",
     "shell.execute_reply.started": "2022-03-01T12:24:01.303209Z"
    },
    "tags": []
   },
   "outputs": [
    {
     "name": "stdout",
     "output_type": "stream",
     "text": [
      "16.1 s ± 41.3 ms per loop (mean ± std. dev. of 7 runs, 1 loop each)\n"
     ]
    }
   ],
   "source": [
    "%%timeit\n",
    "for data in compath:\n",
    "    ..."
   ]
  },
  {
   "cell_type": "code",
   "execution_count": 4,
   "id": "b2494e19-f294-47f5-bfd9-79add7bf7264",
   "metadata": {
    "execution": {
     "iopub.execute_input": "2022-03-01T12:26:10.078277Z",
     "iopub.status.busy": "2022-03-01T12:26:10.077992Z",
     "iopub.status.idle": "2022-03-01T12:26:10.086556Z",
     "shell.execute_reply": "2022-03-01T12:26:10.086127Z",
     "shell.execute_reply.started": "2022-03-01T12:26:10.078259Z"
    },
    "tags": []
   },
   "outputs": [
    {
     "data": {
      "text/plain": [
       "PosixPath('../../Data/ComputationalPathology/Annotations/TCGA-18-5592-01Z-00-DX1.xml')"
      ]
     },
     "execution_count": 4,
     "metadata": {},
     "output_type": "execute_result"
    }
   ],
   "source": [
    "# You can see annotation is stored in .xml format\n",
    "compath.anno_dict[0]"
   ]
  },
  {
   "cell_type": "markdown",
   "id": "795b9f50-8daf-43b3-9582-ad8958dce32f",
   "metadata": {},
   "source": [
    "Below `save_xml_to_tif()` method is specific and bound to `ComputationalPathology`.\n",
    "What is does is clear. Let's print out its documentation."
   ]
  },
  {
   "cell_type": "code",
   "execution_count": 5,
   "id": "504628ee-d8bf-4fce-8b2e-c7bfa07a9d8c",
   "metadata": {
    "execution": {
     "iopub.execute_input": "2022-03-01T12:26:10.087487Z",
     "iopub.status.busy": "2022-03-01T12:26:10.087375Z",
     "iopub.status.idle": "2022-03-01T12:26:10.120633Z",
     "shell.execute_reply": "2022-03-01T12:26:10.120189Z",
     "shell.execute_reply.started": "2022-03-01T12:26:10.087473Z"
    },
    "tags": []
   },
   "outputs": [
    {
     "data": {
      "text/plain": [
       "\u001b[0;31mSignature:\u001b[0m \u001b[0mcompath\u001b[0m\u001b[0;34m.\u001b[0m\u001b[0msave_xml_to_tif\u001b[0m\u001b[0;34m(\u001b[0m\u001b[0;34m)\u001b[0m\u001b[0;34m\u001b[0m\u001b[0;34m\u001b[0m\u001b[0m\n",
       "\u001b[0;31mDocstring:\u001b[0m\n",
       "Parse .xml to mask and write it as tiff file\n",
       "\n",
       "Having masks in images is much faster than parsing .xml for each call.\n",
       "This func iterates through ``anno_dict``, parse and save each in .tif\n",
       "format in the same annotation directory. Re-initiate an instance with\n",
       "``mask_tif`` argument to load them.\n",
       "\u001b[0;31mFile:\u001b[0m      ~/workspace/bioimageloader/bioimageloader/collections/_compath.py\n",
       "\u001b[0;31mType:\u001b[0m      method\n"
      ]
     },
     "metadata": {},
     "output_type": "display_data"
    }
   ],
   "source": [
    "compath.save_xml_to_tif?"
   ]
  },
  {
   "cell_type": "markdown",
   "id": "a114d0dd-31fb-4640-a95d-93842e00e4dc",
   "metadata": {},
   "source": [
    "Let's execute it"
   ]
  },
  {
   "cell_type": "code",
   "execution_count": 6,
   "id": "70634d68-686f-4070-9aa8-8663e81699b2",
   "metadata": {
    "execution": {
     "iopub.execute_input": "2022-03-01T12:26:10.121342Z",
     "iopub.status.busy": "2022-03-01T12:26:10.121233Z",
     "iopub.status.idle": "2022-03-01T12:26:32.695987Z",
     "shell.execute_reply": "2022-03-01T12:26:32.695434Z",
     "shell.execute_reply.started": "2022-03-01T12:26:10.121329Z"
    },
    "tags": []
   },
   "outputs": [
    {
     "name": "stdout",
     "output_type": "stream",
     "text": [
      "[0/29] Wrote '../../Data/ComputationalPathology/Annotations/TCGA-18-5592-01Z-00-DX1.tif'\n",
      "[1/29] Wrote '../../Data/ComputationalPathology/Annotations/TCGA-21-5784-01Z-00-DX1.tif'\n",
      "[2/29] Wrote '../../Data/ComputationalPathology/Annotations/TCGA-21-5786-01Z-00-DX1.tif'\n",
      "[3/29] Wrote '../../Data/ComputationalPathology/Annotations/TCGA-38-6178-01Z-00-DX1.tif'\n",
      "[4/29] Wrote '../../Data/ComputationalPathology/Annotations/TCGA-49-4488-01Z-00-DX1.tif'\n",
      "[5/29] Wrote '../../Data/ComputationalPathology/Annotations/TCGA-50-5931-01Z-00-DX1.tif'\n",
      "[6/29] Wrote '../../Data/ComputationalPathology/Annotations/TCGA-A7-A13E-01Z-00-DX1.tif'\n",
      "[7/29] Wrote '../../Data/ComputationalPathology/Annotations/TCGA-A7-A13F-01Z-00-DX1.tif'\n",
      "[8/29] Wrote '../../Data/ComputationalPathology/Annotations/TCGA-AR-A1AK-01Z-00-DX1.tif'\n",
      "[9/29] Wrote '../../Data/ComputationalPathology/Annotations/TCGA-AR-A1AS-01Z-00-DX1.tif'\n",
      "[10/29] Wrote '../../Data/ComputationalPathology/Annotations/TCGA-AY-A8YK-01A-01-TS1.tif'\n",
      "[11/29] Wrote '../../Data/ComputationalPathology/Annotations/TCGA-B0-5698-01Z-00-DX1.tif'\n",
      "[12/29] Wrote '../../Data/ComputationalPathology/Annotations/TCGA-B0-5710-01Z-00-DX1.tif'\n",
      "[13/29] Wrote '../../Data/ComputationalPathology/Annotations/TCGA-B0-5711-01Z-00-DX1.tif'\n",
      "[14/29] Wrote '../../Data/ComputationalPathology/Annotations/TCGA-CH-5767-01Z-00-DX1.tif'\n",
      "[15/29] Wrote '../../Data/ComputationalPathology/Annotations/TCGA-DK-A2I6-01A-01-TS1.tif'\n",
      "[16/29] Wrote '../../Data/ComputationalPathology/Annotations/TCGA-E2-A14V-01Z-00-DX1.tif'\n",
      "[17/29] Wrote '../../Data/ComputationalPathology/Annotations/TCGA-E2-A1B5-01Z-00-DX1.tif'\n",
      "[18/29] Wrote '../../Data/ComputationalPathology/Annotations/TCGA-G2-A2EK-01A-02-TSB.tif'\n",
      "[19/29] Wrote '../../Data/ComputationalPathology/Annotations/TCGA-G9-6336-01Z-00-DX1.tif'\n",
      "[20/29] Wrote '../../Data/ComputationalPathology/Annotations/TCGA-G9-6348-01Z-00-DX1.tif'\n",
      "[21/29] Wrote '../../Data/ComputationalPathology/Annotations/TCGA-G9-6356-01Z-00-DX1.tif'\n",
      "[22/29] Wrote '../../Data/ComputationalPathology/Annotations/TCGA-G9-6362-01Z-00-DX1.tif'\n",
      "[23/29] Wrote '../../Data/ComputationalPathology/Annotations/TCGA-G9-6363-01Z-00-DX1.tif'\n",
      "[24/29] Wrote '../../Data/ComputationalPathology/Annotations/TCGA-HE-7128-01Z-00-DX1.tif'\n",
      "[25/29] Wrote '../../Data/ComputationalPathology/Annotations/TCGA-HE-7129-01Z-00-DX1.tif'\n",
      "[26/29] Wrote '../../Data/ComputationalPathology/Annotations/TCGA-HE-7130-01Z-00-DX1.tif'\n",
      "[27/29] Wrote '../../Data/ComputationalPathology/Annotations/TCGA-KB-A93J-01A-01-TS1.tif'\n",
      "[28/29] Wrote '../../Data/ComputationalPathology/Annotations/TCGA-NH-A8F7-01A-01-TS1.tif'\n",
      "[29/29] Wrote '../../Data/ComputationalPathology/Annotations/TCGA-RD-A8N9-01A-01-TS1.tif'\n"
     ]
    }
   ],
   "source": [
    "compath.save_xml_to_tif()"
   ]
  },
  {
   "cell_type": "markdown",
   "id": "170a7761-46b1-46c7-971c-16cad520741a",
   "metadata": {},
   "source": [
    "We will re-initialize an instance with `mask_tif=True` to load pre-parsed masks in `.tif` format."
   ]
  },
  {
   "cell_type": "code",
   "execution_count": 7,
   "id": "8457b7c0-19dc-4e10-a97b-5f4da2610694",
   "metadata": {
    "execution": {
     "iopub.execute_input": "2022-03-01T12:26:32.696990Z",
     "iopub.status.busy": "2022-03-01T12:26:32.696858Z",
     "iopub.status.idle": "2022-03-01T12:26:32.700026Z",
     "shell.execute_reply": "2022-03-01T12:26:32.699580Z",
     "shell.execute_reply.started": "2022-03-01T12:26:32.696975Z"
    },
    "tags": []
   },
   "outputs": [],
   "source": [
    "compath_tif = ComputationalPathology(\n",
    "    '../../Data/ComputationalPathology',\n",
    "    mask_tif=True\n",
    ")"
   ]
  },
  {
   "cell_type": "code",
   "execution_count": 8,
   "id": "ea80e29a-aa8b-437b-b52e-c791082b4374",
   "metadata": {
    "execution": {
     "iopub.execute_input": "2022-03-01T12:26:32.700872Z",
     "iopub.status.busy": "2022-03-01T12:26:32.700761Z",
     "iopub.status.idle": "2022-03-01T12:26:42.420237Z",
     "shell.execute_reply": "2022-03-01T12:26:42.419596Z",
     "shell.execute_reply.started": "2022-03-01T12:26:32.700858Z"
    },
    "tags": []
   },
   "outputs": [
    {
     "name": "stdout",
     "output_type": "stream",
     "text": [
      "1.21 s ± 7.7 ms per loop (mean ± std. dev. of 7 runs, 1 loop each)\n"
     ]
    }
   ],
   "source": [
    "%%timeit\n",
    "for data in compath_tif:\n",
    "    ..."
   ]
  },
  {
   "cell_type": "markdown",
   "id": "b1e43968-cf12-4707-a55e-002a8da8d7cd",
   "metadata": {},
   "source": [
    "Iteration that took **16.1 seconds** now takes **1.21 seconds**!"
   ]
  }
 ],
 "metadata": {
  "kernelspec": {
   "display_name": "Python 3 (ipykernel)",
   "language": "python",
   "name": "python3"
  },
  "language_info": {
   "codemirror_mode": {
    "name": "ipython",
    "version": 3
   },
   "file_extension": ".py",
   "mimetype": "text/x-python",
   "name": "python",
   "nbconvert_exporter": "python",
   "pygments_lexer": "ipython3",
   "version": "3.9.7"
  }
 },
 "nbformat": 4,
 "nbformat_minor": 5
}
