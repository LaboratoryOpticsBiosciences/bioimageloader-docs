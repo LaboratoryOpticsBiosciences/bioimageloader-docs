{
 "cells": [
  {
   "cell_type": "markdown",
   "id": "9f5dac7b-5156-4add-ba50-0190a3cc8275",
   "metadata": {},
   "source": [
    "# Plot histograms for collections\n",
    "<b style=\"color:red\">WARNING</b> **This notebook is for developpers to update graphs in documentation**"
   ]
  },
  {
   "cell_type": "markdown",
   "id": "9531fcc8-509c-41f2-8875-e7ed4cc285cc",
   "metadata": {},
   "source": [
    "Install additional dependencies"
   ]
  },
  {
   "cell_type": "markdown",
   "id": "2668bfe5-9dba-486d-86f1-b0266621b077",
   "metadata": {},
   "source": [
    "Install additional dependencies. This notebook was written in [jupyter lab](https://jupyter.org/). If you are in jupyter notebook or other environments, `plotly` may not work. If you have troubles, follow this instruction https://plotly.com/python/getting-started/#installation."
   ]
  },
  {
   "cell_type": "code",
   "execution_count": null,
   "id": "a2f3a231-c82d-4ab8-b01a-d448d124a73e",
   "metadata": {
    "tags": []
   },
   "outputs": [],
   "source": [
    "# !pip install pandas\n",
    "# !pip install plotly\n",
    "# !pip install \"jupyterlab>=3\" \"ipywidgets>=7.6\""
   ]
  },
  {
   "cell_type": "code",
   "execution_count": null,
   "id": "6a1332e9-ed14-4c20-ba7a-7f99c1907c31",
   "metadata": {
    "tags": []
   },
   "outputs": [],
   "source": [
    "# # or use conda\n",
    "# !conda install pandas\n",
    "# !conda install -c plotly plotly\n",
    "# !conda install \"jupyterlab>=3\" \"ipywidgets>=7.6\" "
   ]
  },
  {
   "cell_type": "code",
   "execution_count": null,
   "id": "9a50957d-4bdc-459d-9114-30d4fabe954a",
   "metadata": {
    "tags": []
   },
   "outputs": [],
   "source": [
    "import plotly.express as px\n",
    "import plotly.graph_objects as go\n",
    "import pandas as pd\n",
    "\n",
    "from bioimageloader._experimentals import (ALL_COLLECTIONS, ROOTS,\n",
    "                                           load_all_datasets)\n",
    "from bioimageloader.plots import cycle_colors, to_hex_color"
   ]
  },
  {
   "cell_type": "markdown",
   "id": "67b56833-3117-4549-b216-1b0b11e14d7d",
   "metadata": {},
   "source": [
    "## Load all collections\n",
    "Point to root directories\n",
    "\n",
    "Below, I have all datasets under `../Data`"
   ]
  },
  {
   "cell_type": "code",
   "execution_count": null,
   "id": "1e3f22d4-d244-4a99-8854-851af4ed5757",
   "metadata": {
    "tags": []
   },
   "outputs": [],
   "source": [
    "ROOTS"
   ]
  },
  {
   "cell_type": "code",
   "execution_count": null,
   "id": "07b8d132-da74-4e49-bfda-31b830ef52bb",
   "metadata": {
    "tags": []
   },
   "outputs": [],
   "source": [
    "ROOTS = {\n",
    "    # anno\n",
    "    'DSB2018'                 : '../Data/DSB2018',\n",
    "    'TNBC'                    : '../Data/TNBC_NucleiSegmentation',\n",
    "    'ComputationalPathology'  : '../Data/ComputationalPathology',\n",
    "    'S_BSST265'               : '../Data/BioStudies',\n",
    "    'MurphyLab'               : '../Data/2009_ISBI_2DNuclei_code_data',\n",
    "    'BBBC006'                 : '../Data/bbbc/006',\n",
    "    'BBBC007'                 : '../Data/bbbc/007',\n",
    "    'BBBC008'                 : '../Data/bbbc/008',\n",
    "    'BBBC018'                 : '../Data/bbbc/018',\n",
    "    'BBBC020'                 : '../Data/bbbc/020',\n",
    "    'BBBC039'                 : '../Data/bbbc/039',\n",
    "    # partial anno\n",
    "    'DigitalPathology'        : '../Data/DigitalPathology',\n",
    "    'UCSB'                    : '../Data/UCSB_BioSegmentation',\n",
    "    'BBBC002'                 : '../Data/bbbc/002',\n",
    "    # no anno\n",
    "    'BBBC013'                 : '../Data/bbbc/013',\n",
    "    'BBBC014'                 : '../Data/bbbc/014',\n",
    "    'BBBC015'                 : '../Data/bbbc/015',\n",
    "    'BBBC016'                 : '../Data/bbbc/016',\n",
    "    'BBBC026'                 : '../Data/bbbc/026',\n",
    "    'BBBC041'                 : '../Data/bbbc/041',\n",
    "    'FRUNet'                  : '../Data/FRU_processing',\n",
    "    'BBBC021'                 : '../Data/bbbc/021',\n",
    "}\n",
    "\n"
   ]
  },
  {
   "cell_type": "code",
   "execution_count": null,
   "id": "764b1c1c-b3c0-4620-bafb-e6bfb53c295c",
   "metadata": {
    "tags": []
   },
   "outputs": [],
   "source": [
    "all_datasets = load_all_datasets(roots=ROOTS)"
   ]
  },
  {
   "cell_type": "code",
   "execution_count": null,
   "id": "213725ce-3488-4f4e-90c5-fc6e0b774c66",
   "metadata": {
    "tags": []
   },
   "outputs": [],
   "source": [
    "all_datasets"
   ]
  },
  {
   "cell_type": "markdown",
   "id": "d3bb8361-c27c-4997-838b-115d2717f1a9",
   "metadata": {},
   "source": [
    "Sort in length"
   ]
  },
  {
   "cell_type": "code",
   "execution_count": null,
   "id": "8dd8e0c3-feea-46a0-a364-1e98f065d269",
   "metadata": {
    "tags": []
   },
   "outputs": [],
   "source": [
    "def _sort_in_length(dset):\n",
    "    return len(dset)"
   ]
  },
  {
   "cell_type": "code",
   "execution_count": null,
   "id": "3aa51534-4ff4-44cf-8a3b-4a845b327b53",
   "metadata": {
    "tags": []
   },
   "outputs": [],
   "source": [
    "print([len(dset) for dset in all_datasets])\n",
    "all_datasets = sorted(all_datasets, key=_sort_in_length)[::-1]\n",
    "print([len(dset) for dset in all_datasets])"
   ]
  },
  {
   "cell_type": "markdown",
   "id": "a107a6c3-6fea-40ab-b984-b6a34f14a8f0",
   "metadata": {},
   "source": [
    "## hist(All Collections)"
   ]
  },
  {
   "cell_type": "code",
   "execution_count": null,
   "id": "2e9bd61b-1f75-4015-b375-c624385ef33a",
   "metadata": {
    "tags": []
   },
   "outputs": [],
   "source": [
    "# Choose your color map (default: tab10)\n",
    "colors = cycle_colors(px.colors.qualitative.T10, len(all_datasets))"
   ]
  },
  {
   "cell_type": "code",
   "execution_count": null,
   "id": "dc865ec6-e4b8-4783-afd6-58bf74f14011",
   "metadata": {
    "tags": []
   },
   "outputs": [],
   "source": [
    "df_all = pd.DataFrame({\n",
    "    'acronym': [dset.acronym for dset in all_datasets],\n",
    "    'length': [len(dset) for dset in all_datasets],\n",
    "    'color': colors,\n",
    "})"
   ]
  },
  {
   "cell_type": "code",
   "execution_count": null,
   "id": "a84a58b2-dfb9-48e8-978e-81b59eed2eb7",
   "metadata": {
    "tags": []
   },
   "outputs": [],
   "source": [
    "df_all.head()"
   ]
  },
  {
   "cell_type": "markdown",
   "id": "49b279ac-0c90-4bdd-8d1d-e1246b766abc",
   "metadata": {},
   "source": [
    "Add percentage info"
   ]
  },
  {
   "cell_type": "code",
   "execution_count": null,
   "id": "e4468b11-d8f9-4b42-8915-f9e594eb865a",
   "metadata": {
    "tags": []
   },
   "outputs": [],
   "source": [
    "df_all['perc'] = df_all.length / df_all.length.sum()\n",
    "df_all.head()"
   ]
  },
  {
   "cell_type": "code",
   "execution_count": null,
   "id": "4f325f49-7a02-427a-b5cb-9ad892b395a9",
   "metadata": {
    "tags": []
   },
   "outputs": [],
   "source": [
    "hovertemplate = '%{x}, %{y}, %{customdata:.2f}%<extra></extra>'"
   ]
  },
  {
   "cell_type": "code",
   "execution_count": null,
   "id": "5c50d46b-51a8-4195-8670-89a914af4f49",
   "metadata": {
    "tags": []
   },
   "outputs": [],
   "source": [
    "fig = go.Figure()\n",
    "\n",
    "fig.add_trace(\n",
    "    go.Bar(x=df_all.acronym, y=df_all.length,\n",
    "           marker_color=df_all.color,\n",
    "           customdata=df_all.perc,\n",
    "           hovertemplate=hovertemplate)\n",
    ")\n",
    "fig.update_layout(\n",
    "    title_text='All Collections (#collections: {}, #images: {})'.format(\n",
    "        len(df_all), df_all.length.sum())\n",
    ")\n",
    "fig.show()"
   ]
  },
  {
   "cell_type": "code",
   "execution_count": null,
   "id": "9e0e9456-55d2-4be1-b5dc-48ab932bed47",
   "metadata": {
    "tags": []
   },
   "outputs": [],
   "source": [
    "fig.write_html(\n",
    "    '../docs/_static/hist_all_collections_div.html',\n",
    "    full_html=False,\n",
    "    include_plotlyjs='cnd'  # important\n",
    ")"
   ]
  },
  {
   "cell_type": "code",
   "execution_count": null,
   "id": "ef97505f-7c59-4a6b-955f-f8961d4c0217",
   "metadata": {},
   "outputs": [],
   "source": []
  },
  {
   "cell_type": "markdown",
   "id": "0834d4ce-5d6b-4ee8-9517-7f874e2dc29a",
   "metadata": {},
   "source": [
    "## hist(Mask Collections)"
   ]
  },
  {
   "cell_type": "code",
   "execution_count": null,
   "id": "3548a4d8-888e-4b90-891d-fd22f66b5b26",
   "metadata": {
    "tags": []
   },
   "outputs": [],
   "source": [
    "who_has_masks = ['DSB2018', \n",
    "'TNBC', \n",
    "'ComPath', \n",
    "'S_BSST265', \n",
    "'MurphyLab', \n",
    "'FRUNet', \n",
    "'BBBC006', \n",
    "'BBBC007', \n",
    "'BBBC008', \n",
    "'BBBC018', \n",
    "'BBBC020', \n",
    "'BBBC039', ]\n",
    "\n",
    "\n",
    "maskdset_indices = [df_all.acronym.to_list().index(who) for who in who_has_masks]"
   ]
  },
  {
   "cell_type": "code",
   "execution_count": null,
   "id": "3ac2fe8d-508c-4780-b62f-abe85d0b8098",
   "metadata": {
    "tags": []
   },
   "outputs": [],
   "source": [
    "maskdset_indices, len(maskdset_indices) / len(all_datasets)"
   ]
  },
  {
   "cell_type": "code",
   "execution_count": null,
   "id": "663dfb3c-4af2-45be-b9d8-47107d805526",
   "metadata": {
    "tags": []
   },
   "outputs": [],
   "source": [
    "df_mask = df_all.drop(set(df_all.index).difference(maskdset_indices))"
   ]
  },
  {
   "cell_type": "code",
   "execution_count": null,
   "id": "56c8561e-65a6-44e2-82f0-e7b5988b32f2",
   "metadata": {
    "tags": []
   },
   "outputs": [],
   "source": [
    "df_mask.perc = df_mask.length / df_mask.length.sum()\n",
    "df_mask.head()"
   ]
  },
  {
   "cell_type": "code",
   "execution_count": null,
   "id": "447d3d5b-67cb-405a-94f1-6d5d8e712173",
   "metadata": {
    "tags": []
   },
   "outputs": [],
   "source": [
    "fig = go.Figure()\n",
    "\n",
    "fig.add_trace(\n",
    "    go.Bar(x=df_mask.acronym, y=df_mask.length,\n",
    "           marker_color=df_mask.color,\n",
    "           customdata=df_mask.perc,\n",
    "           hovertemplate=hovertemplate)\n",
    ")\n",
    "fig.update_layout(\n",
    "    title_text='Mask Collections (#collections: {}, #images: {})'.format(\n",
    "        len(df_mask), df_mask.length.sum())\n",
    ")\n",
    "fig.show()"
   ]
  },
  {
   "cell_type": "code",
   "execution_count": null,
   "id": "33ae5ec2-ced9-4847-bfca-1bb1b42eff57",
   "metadata": {
    "tags": []
   },
   "outputs": [],
   "source": [
    "fig.write_html(\n",
    "    '../docs/_static/hist_mask_collections_div.html',\n",
    "    full_html=False,\n",
    "    include_plotlyjs=False  # *\n",
    ")"
   ]
  }
 ],
 "metadata": {
  "kernelspec": {
   "display_name": "Python 3 (ipykernel)",
   "language": "python",
   "name": "python3"
  },
  "language_info": {
   "codemirror_mode": {
    "name": "ipython",
    "version": 3
   },
   "file_extension": ".py",
   "mimetype": "text/x-python",
   "name": "python",
   "nbconvert_exporter": "python",
   "pygments_lexer": "ipython3",
   "version": "3.8.6"
  }
 },
 "nbformat": 4,
 "nbformat_minor": 5
}
