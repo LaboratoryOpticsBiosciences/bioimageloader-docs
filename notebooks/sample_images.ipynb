{
 "cells": [
  {
   "cell_type": "markdown",
   "id": "db3f36dd-73fb-4b1b-b7ce-351e7f2fbc22",
   "metadata": {},
   "source": [
    "# Sample images\n",
    "Samples some from each dataset and visualize them"
   ]
  },
  {
   "cell_type": "markdown",
   "id": "cc5abb29-0f3b-4278-a1ce-8bd46c72bd13",
   "metadata": {},
   "source": [
    "Install additional dependencies"
   ]
  },
  {
   "cell_type": "code",
   "execution_count": null,
   "id": "9a7d40ed-cb53-4fdc-ba87-a1f06bbef5e0",
   "metadata": {},
   "outputs": [],
   "source": [
    "# !pip install -U \"matplotlib>=3.5\""
   ]
  },
  {
   "cell_type": "code",
   "execution_count": null,
   "id": "3395d985-e731-4d10-9d4d-952e93db8a09",
   "metadata": {},
   "outputs": [],
   "source": [
    "# # or use conda\n",
    "# !conda install -U \"matplotlib>=3.5\""
   ]
  },
  {
   "cell_type": "code",
   "execution_count": null,
   "id": "8a6738b7-797c-40cb-894a-2ea048a0cda1",
   "metadata": {
    "tags": []
   },
   "outputs": [],
   "source": [
    "import os\n",
    "import random\n",
    "from typing import Dict, List, Tuple\n",
    "\n",
    "import cv2\n",
    "import matplotlib.pyplot as plt\n",
    "import numpy as np\n",
    "\n",
    "from bioimageloader import Config\n",
    "from bioimageloader.utils import random_label_cmap\n",
    "from bioimageloader._experimentals import ROOTS, load_all_datasets\n",
    "\n",
    "cmap = random_label_cmap()  # colormap for labels\n",
    "plt.rcParams['image.interpolation'] = 'none'  # disable interpolation"
   ]
  },
  {
   "cell_type": "code",
   "execution_count": null,
   "id": "48bc8c74-d3ae-4523-931f-1ffb09171218",
   "metadata": {
    "tags": []
   },
   "outputs": [],
   "source": [
    "def sample_n_resize(\n",
    "    dataset,\n",
    "    n_sample,\n",
    "    height,\n",
    "    width=None,\n",
    "    rand_seed=None,\n",
    ") -> Tuple[List[int], List[Dict[str, np.ndarray]]]:\n",
    "    \"\"\"Sample and resize\n",
    "    \n",
    "    If ``width`` is not set, it keeps aspect ratio\n",
    "    \n",
    "    Returns\n",
    "    -------\n",
    "    indices : list of int\n",
    "        Randomly chosen indices\n",
    "    samples : list of dictionary\n",
    "        dict['image'|'mask', np.ndarray]\n",
    "    \"\"\"\n",
    "    if rand_seed:\n",
    "        random.seed(rand_seed)\n",
    "    samples = []\n",
    "    _indices = list(range(len(dataset)))\n",
    "    random.shuffle(_indices)\n",
    "    indices = _indices[:n_sample]\n",
    "    for i, ind in enumerate(indices):\n",
    "        data = dataset[ind]\n",
    "        image = data['image']\n",
    "        if width is None:\n",
    "            ar = image.shape[1] / image.shape[0]\n",
    "            width = int(ar * height)\n",
    "        data['image'] = cv2.resize(image, (width, height))\n",
    "        if dataset.output == 'mask' or dataset.output == 'both':\n",
    "            mask = data['mask']\n",
    "            if mask.dtype == bool:\n",
    "                mask = mask.astype(np.float32)\n",
    "            data['mask'] = cv2.resize(mask, (width, height))\n",
    "        samples.append(data)\n",
    "    return indices, samples"
   ]
  },
  {
   "cell_type": "markdown",
   "id": "9ca36559-eb4d-42cf-845f-dde16668fa65",
   "metadata": {},
   "source": [
    "## Load datasets\n",
    "Point to root directories\n",
    "\n",
    "Below, I have datasets under `../Data`"
   ]
  },
  {
   "cell_type": "code",
   "execution_count": null,
   "id": "ac65addc-b004-47fd-ba3c-69f2f88c2904",
   "metadata": {
    "tags": []
   },
   "outputs": [],
   "source": [
    "# This variable comes from `_experimentals` module\n",
    "# Overwrite it below manually\n",
    "ROOTS"
   ]
  },
  {
   "cell_type": "code",
   "execution_count": null,
   "id": "0bc7816c-0516-471b-99c5-fe90515edbb5",
   "metadata": {
    "tags": []
   },
   "outputs": [],
   "source": [
    "# # If you already have config file\n",
    "# cfg = Config('../configs/dummy_cfg.yml')\n",
    "# ROOTS = dict((k, v['root_dir']) for k, v in cfg.items())"
   ]
  },
  {
   "cell_type": "code",
   "execution_count": null,
   "id": "0243d7c5-df97-455e-a212-d504f6a268e7",
   "metadata": {
    "tags": []
   },
   "outputs": [],
   "source": [
    "# ROOTS = {\n",
    "#     # anno\n",
    "#     'DSB2018'                 : '../Data/DSB2018',\n",
    "#     'TNBC'                    : '../Data/TNBC_NucleiSegmentation',\n",
    "#     'ComputationalPathology'  : '../Data/ComputationalPathology',\n",
    "#     'S_BSST265'               : '../Data/BioStudies',\n",
    "#     'MurphyLab'               : '../Data/2009_ISBI_2DNuclei_code_data',\n",
    "#     'BBBC006'                 : '../Data/bbbc/006',\n",
    "#     'BBBC007'                 : '../Data/bbbc/007',\n",
    "#     'BBBC008'                 : '../Data/bbbc/008',\n",
    "#     'BBBC018'                 : '../Data/bbbc/018',\n",
    "#     'BBBC020'                 : '../Data/bbbc/020',\n",
    "#     'BBBC039'                 : '../Data/bbbc/039',\n",
    "#     # partial anno\n",
    "#     'DigitalPathology'        : '../Data/DigitalPathology',\n",
    "#     'UCSB'                    : '../Data/UCSB_BioSegmentation',\n",
    "#     'BBBC002'                 : '../Data/bbbc/002',\n",
    "#     # no anno\n",
    "#     'BBBC013'                 : '../Data/bbbc/013',\n",
    "#     'BBBC014'                 : '../Data/bbbc/014',\n",
    "#     'BBBC015'                 : '../Data/bbbc/015',\n",
    "#     'BBBC016'                 : '../Data/bbbc/016',\n",
    "#     'BBBC026'                 : '../Data/bbbc/026',\n",
    "#     'BBBC041'                 : '../Data/bbbc/041',\n",
    "#     'FRUNet'                  : '../Data/FRU_processing',\n",
    "#     'BBBC021'                 : '../Data/bbbc/021',\n",
    "# }"
   ]
  },
  {
   "cell_type": "code",
   "execution_count": null,
   "id": "6aab9d26-1e16-45b9-80cd-8af86e687a9f",
   "metadata": {
    "tags": []
   },
   "outputs": [],
   "source": [
    "datasets = load_all_datasets()\n",
    "datasets"
   ]
  },
  {
   "cell_type": "markdown",
   "id": "91a6bbdd-db2c-4954-9729-c660380157a8",
   "metadata": {},
   "source": [
    "## Sample"
   ]
  },
  {
   "cell_type": "code",
   "execution_count": null,
   "id": "e13d85a2-0137-4dd1-a842-7452276eb64d",
   "metadata": {
    "tags": []
   },
   "outputs": [],
   "source": [
    "SEED = 42\n",
    "# number of samples for each dataset\n",
    "NUM_SAMPLE = 2\n",
    "HEIGHT = 256  # resize"
   ]
  },
  {
   "cell_type": "code",
   "execution_count": null,
   "id": "9213845a-7034-4274-a6ab-cffd5c2b99f2",
   "metadata": {
    "tags": []
   },
   "outputs": [],
   "source": [
    "fig, big_axes = plt.subplots(len(datasets), 1, constrained_layout=True,\n",
    "                             figsize=(10, 4*len(datasets)), dpi=150)\n",
    "gridspec = big_axes[0].get_subplotspec().get_gridspec()\n",
    "\n",
    "for i, dset in enumerate(datasets):\n",
    "    indices, samples = sample_n_resize(dset, NUM_SAMPLE, HEIGHT, rand_seed=SEED)  # sample\n",
    "    subfig = fig.add_subfigure(gridspec[i])\n",
    "    subfig.suptitle(dset.acronym)\n",
    "    axes = subfig.subplots(1, 4)\n",
    "    for j, (ind, data) in enumerate(zip(indices, samples)):\n",
    "        j *= NUM_SAMPLE\n",
    "        axes[j].imshow(data['image'])\n",
    "        axes[j].set_title(f'{ind}/{len(dset) - 1}')\n",
    "        if 'mask' in data:\n",
    "            axes[j+1].imshow(data['mask'], cmap=cmap)\n",
    "    for _ax in axes:\n",
    "        _ax.axis('off')\n",
    "\n",
    "for _ax in big_axes:\n",
    "    _ax.axis('off')"
   ]
  },
  {
   "cell_type": "code",
   "execution_count": null,
   "id": "8f1ead69-33bf-4e4e-89eb-9378e39123ad",
   "metadata": {},
   "outputs": [],
   "source": []
  },
  {
   "cell_type": "code",
   "execution_count": null,
   "id": "4bddeb49-2f59-4c4f-ae8a-45425d3932bd",
   "metadata": {},
   "outputs": [],
   "source": []
  },
  {
   "cell_type": "markdown",
   "id": "267fbd72-b13d-4fe0-815c-e5448509937d",
   "metadata": {},
   "source": [
    "## Save Samples"
   ]
  },
  {
   "cell_type": "code",
   "execution_count": null,
   "id": "b4cb3008-8291-4975-a258-b5af6edaa0e1",
   "metadata": {
    "tags": []
   },
   "outputs": [],
   "source": [
    "SEED = 42\n",
    "# NUM_SAMPLE = 2\n",
    "# HEIGHT = 256\n",
    "DIR = '../docs/_static/sample_images'\n",
    "\n",
    "os.makedirs(DIR, exist_ok=True)"
   ]
  },
  {
   "cell_type": "code",
   "execution_count": null,
   "id": "be4e7582-be76-4773-8ee2-9241c0b4038a",
   "metadata": {
    "tags": []
   },
   "outputs": [],
   "source": [
    "for i, dset in enumerate(datasets):\n",
    "    indices, samples = sample_n_resize(dset, NUM_SAMPLE, HEIGHT, rand_seed=SEED)  # sample\n",
    "    for ind, data in zip(indices, samples):\n",
    "        fig, ax = plt.subplots()\n",
    "        ax.imshow(data['image'])\n",
    "        ax.axis('off')\n",
    "        f = os.path.join(DIR, f'{dset.acronym}_{i:d}_image_{ind:04d}.png')\n",
    "        fig.savefig(f, bbox_inches='tight', pad_inches=0)\n",
    "        plt.close(fig)\n",
    "        if dset.output == 'mask' or dset.output == 'both':\n",
    "            mask = data['mask']\n",
    "            if mask.dtype == bool:\n",
    "                mask = mask.astype(np.float32)\n",
    "            fig, ax = plt.subplots()\n",
    "            ax.imshow(mask, cmap=cmap)\n",
    "            ax.axis('off')\n",
    "            f = os.path.join(DIR, f'{dset.acronym}_{i:d}_annotation_{ind:04d}.png')\n",
    "            fig.savefig(f, bbox_inches='tight', pad_inches=0)\n",
    "            plt.close(fig)"
   ]
  },
  {
   "cell_type": "code",
   "execution_count": null,
   "id": "d3b58b12-58ee-4ebb-a1ea-09c6e7c27a92",
   "metadata": {},
   "outputs": [],
   "source": []
  }
 ],
 "metadata": {
  "kernelspec": {
   "display_name": "Python 3 (ipykernel)",
   "language": "python",
   "name": "python3"
  },
  "language_info": {
   "codemirror_mode": {
    "name": "ipython",
    "version": 3
   },
   "file_extension": ".py",
   "mimetype": "text/x-python",
   "name": "python",
   "nbconvert_exporter": "python",
   "pygments_lexer": "ipython3",
   "version": "3.8.6"
  }
 },
 "nbformat": 4,
 "nbformat_minor": 5
}
